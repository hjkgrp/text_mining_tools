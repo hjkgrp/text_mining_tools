{
 "cells": [
  {
   "cell_type": "code",
   "execution_count": 53,
   "metadata": {},
   "outputs": [],
   "source": [
    "# To use this notebook, you need to have the following installed in your conda env\n",
    "# conda install -c conda-forge nb_conda_kernels\n",
    "# conda install -c anaconda-nb-extensions nb_conda\n",
    "# conda install -c anaconda ipython\n",
    "\n",
    "# And then you need to check that the kernel is set to your conda env. Else things wont work."
   ]
  },
  {
   "cell_type": "markdown",
   "metadata": {},
   "source": [
    "This notebook is set up to show how you can perform text mining with a corpus that already has a series of article classes that are saved. We can do this for mining manuscripts corresponding to the CSD, given that we know the DOI of the article. The first steps are to identify the presence of an article. After that is done, we can load in the article and perform text analysis.\n",
    "\n",
    "This tutorial notebook assumes the corpus at a given path, but this can be easily adjusted given a new corpus path."
   ]
  },
  {
   "cell_type": "code",
   "execution_count": 54,
   "metadata": {},
   "outputs": [],
   "source": [
    "import glob, os\n",
    "corpus_pickle_path = '/media/storage/nandy/Documents/HJKGroup/CSDCorpus/pickles/'\n",
    "\n",
    "# The above path is where pickle files of the\n",
    "# article classes are stored. That way we do \n",
    "# not need to load in the article from scratch\n",
    "# every time, but rather get the article that\n",
    "# we have already parsed. This directory can \n",
    "# also be copied over to any local machine to\n",
    "# move the corpus around."
   ]
  },
  {
   "cell_type": "code",
   "execution_count": 55,
   "metadata": {},
   "outputs": [
    {
     "name": "stdout",
     "output_type": "stream",
     "text": [
      "------ pickle file ------\n",
      "['/media/storage/nandy/Documents/HJKGroup/CSDCorpus/pickles//10.1039/C3DT53221F.pkl']\n"
     ]
    }
   ],
   "source": [
    "# Next, we should have a DOI of interest. I will use\n",
    "# a random DOI corresponding to a Fe complex\n",
    "# at 10.1039/C3DT53221F --> corresponding to refcode VITQIA\n",
    "\n",
    "doi_of_interest = '10.1039/C3DT53221F'\n",
    "\n",
    "# WARNING: You may want to check the lowercase\n",
    "# version of your DOI --> the files are case\n",
    "# sensitive. Thus, if your original DOI does \n",
    "# not result in a hit, please try the following:\n",
    "#\n",
    "# doi_of_interest = doi_of_interest.lower()\n",
    "#\n",
    "# and redo your search. If this brings up \n",
    "# no hits, then we do not have the article in the\n",
    "# corpus.\n",
    "\n",
    "# check if this DOI is in our corpus\n",
    "pickle_of_doi = glob.glob(corpus_pickle_path+'/'+doi_of_interest+'*')\n",
    "print('------ pickle file ------')\n",
    "print(pickle_of_doi)\n",
    "\n",
    "# If the above prints something, we have the DOI of interest."
   ]
  },
  {
   "cell_type": "code",
   "execution_count": 56,
   "metadata": {},
   "outputs": [
    {
     "name": "stdout",
     "output_type": "stream",
     "text": [
      "<text_mining_tools.article.Article object at 0x7fcea07747c0>\n"
     ]
    }
   ],
   "source": [
    "# Next, we should load in the pickle file of interest. \n",
    "# Before we do this, lets have all of our text mining tools\n",
    "# imported for use.\n",
    "from text_mining_tools.full_text_mine import execute_query\n",
    "from text_mining_tools.query import Query\n",
    "from text_mining_tools.article import Article\n",
    "import pickle\n",
    "\n",
    "# below, we load in the article class of the corresponding DOI\n",
    "loaded_article_class = pickle.load(open(pickle_of_doi[0],'rb'))\n",
    "print(loaded_article_class) "
   ]
  },
  {
   "cell_type": "code",
   "execution_count": 57,
   "metadata": {},
   "outputs": [
    {
     "name": "stdout",
     "output_type": "stream",
     "text": [
      "dict_keys(['doi', 'prefix', 'getter', 'basepath', 'elsevier_key', 'f', 'original_f', 'article_type', 'title', 'journal_name', 'authors', 'publication_year', 'abstract', 'abstract_sentences', 'citation_dict', 'section_name_dict', 'section_text_dict', 'section_text_dict_sentences', 'table_caption_dict', 'figure_captions', 'table_dict', 'full_paper', 'full_paper_sentences'])\n"
     ]
    }
   ],
   "source": [
    "# It may not be obvious what is stored in an article class\n",
    "# We can print the information to get help\n",
    "print(loaded_article_class.__dict__.keys())"
   ]
  },
  {
   "cell_type": "code",
   "execution_count": 58,
   "metadata": {},
   "outputs": [
    {
     "name": "stdout",
     "output_type": "stream",
     "text": [
      "authors ['Xiao Ming Lu', 'Guo Wang', 'Yi Feng Cheng']\n",
      "abstract [CuII(phen)(HIMC−)(H2O)]·[CuII(phen)(HIMC−)(NO3−)]·NO3−·H2O (1) and [CuII(2,2′-bipy)(HIMC−)]·NO3−·xH2O (2) (phen = 1,10-phenanthroline, 2,2′-bipy = 2,2′-bipyridine, HIMC− = 1H-imidazole-4-carboxylate acid anion) have been synthesized at 180 °C, of which the HIMC− is produced by an in situ decarboxylation from H3IDC (1H-imidazole-4,5-dicarboxylic acid) in a one-pot hydrothermal reaction. The anticancer activity experiments in vitro show that 1 exhibited excellent activities against A549, Bel-7402 and HCT-8 cancer cells and is even better than the clinical anticancer drug 5-Fu (5-fluorouracil), while 2 shows little response toward the cancer cells. The single crystal X-ray diffraction indicated that complex 1 possess a co-planar [CuII(N–N)(HIMC−)] coordination geometry. The IR, elemental analysis and solid-state luminescent spectra of complexes 1 and 2 indicated that the composition of these two complexes are similar, whereas the 2,2′-bipy in complex 2 replaced phen in complex 1. The calculation by the Gaussian 03 program illustrated that the decrease in the energy gaps between π*–π from the free to the coordinated ligand for 2,2′-bipy and phen (ΔE) are 5.3 eV to 4.0 eV and 4.8 eV to 4.5 eV separately, and the relative changes of the Gibbs free energies (ΔG) for complex 1 and 2 decomposing into free Cu2+ and ligands are about 0 kcal mol−1 and 7 kcal mol−1 respectively, which revealed that it is more stable when 2,2′-bipy is coordinated with CuII than phen, and 1 is easier to disassociate into free Cu2+ than 2. By relating the ΔE, ΔG, luminescent qualities and anticancer toxicities of the complexes with their composition, it can be concluded that both CuII and their coordinated ligands are responsible for the inhibition against cancer cells.\n",
      "figure captions {1: ' Fig. 1  (A) The molecular structure of complex 1, of which all of hydrogen atoms of phen, the nitrate lattice anion and lattice water are omitted for clarity, and the thermal ellipsoids are drawn at the 50% probability level. (B) The 2D supermolecular architecture of 1 formed by hydrogen bonding interactions and π–π stacking interactions. ', 2: ' Fig. 2  The deduced molecular structure of complex 2. ', 3: ' Fig. 3  The π and π* orbital of the free and coordinated phen (A) and 2,2′-bipy (B) in complexes 1 and 2 respectively, of which the energy difference between π* and π is 4.8 eV and 4.5 for the free and coordinated phen, and 5.3 eV and 4.0 for the free 2,2′-bipy and coordinated 2,2′-bipy, respectively. ', 4: ' Fig. 4  The solid-emission spectra of complexes 1 and 2 and the free ligands at room temperature (λex = 360 for 1, λex = 288 nm for 2, λex = 374 nm for free phen, free H3IDC and free 2,2′-bipy). '}\n",
      "full_paper Cu II complexes with co-planar [Cu II (N–N)(HIMC − )], their anti-cancer activities, Δ G , Δ E and solid luminescence   - Dalton Transactions (RSC Publishing) DOI:10.1039/C3DT53221F  DOI: \n",
      "(Paper)\n",
      ", 2014, 43, 5357-5363CuII complexes with co-planar [CuII(N–N)(HIMC−)], their anti-cancer activities, ΔG, ΔE and solid luminescence\n",
      "\n",
      "        \n",
      "          \n",
      "            Yi-Feng \n",
      "            Cheng\n",
      "          \n",
      "        \n",
      "      a, \n",
      "      \n",
      "        \n",
      "          \n",
      "            Xiao-Ming \n",
      "            Lu\n",
      "          \n",
      "        \n",
      "      *ab and \n",
      "\n",
      "        \n",
      "          \n",
      "            Guo \n",
      "            Wang\n",
      "          \n",
      "        \n",
      "      a\n",
      "Department of Chemistry, Capital Normal University, 105#, North Road of the West Third Ring, 100048, Beijing, China.   Tel: (+86) 01068904725\n",
      "State Key Laboratory of Structural Chemistry, Fujian Institute of Research on the Structure of Matter, Chinese Academy of Sciences, Fuzhou, Fujian 350002, China. E-mail: \n",
      "Received \n",
      "      24th August 2013\n",
      "    , Accepted 6th January 2014First published on 11th February 2014[CuII(phen)(HIMC−)(H2O)]·[CuII(phen)(HIMC−)(NO3−)]·NO3−·H2O (1) and [CuII(2,2′-bipy)(HIMC−)]·NO3−·xH2O (2) (phen = 1,10-phenanthroline, 2,2′-bipy = 2,2′-bipyridine, HIMC− = 1H-imidazole-4-carboxylate acid anion) have been synthesized at 180 °C, of which the HIMC− is produced by an in situ decarboxylation from H3IDC (1H-imidazole-4,5-dicarboxylic acid) in a one-pot hydrothermal reaction. The anticancer activity experiments in vitro show that 1 exhibited excellent activities against A549, Bel-7402 and HCT-8 cancer cells and is even better than the clinical anticancer drug 5-Fu (5-fluorouracil), while 2 shows little response toward the cancer cells. The single crystal X-ray diffraction indicated that complex 1 possess a co-planar [CuII(N–N)(HIMC−)] coordination geometry. The IR, elemental analysis and solid-state luminescent spectra of complexes 1 and 2 indicated that the composition of these two complexes are similar, whereas the 2,2′-bipy in complex 2 replaced phen in complex 1. The calculation by the Gaussian 03 program illustrated that the decrease in the energy gaps between π*–π from the free to the coordinated ligand for 2,2′-bipy and phen (ΔE) are 5.3 eV to 4.0 eV and 4.8 eV to 4.5 eV separately, and the relative changes of the Gibbs free energies (ΔG) for complex 1 and 2 decomposing into free Cu2+ and ligands are about 0 kcal mol−1 and 7 kcal mol−1 respectively, which revealed that it is more stable when 2,2′-bipy is coordinated with CuII than phen, and 1 is easier to disassociate into free Cu2+ than 2. By relating the ΔE, ΔG, luminescent qualities and anticancer toxicities of the complexes with their composition, it can be concluded that both CuII and their coordinated ligands are responsible for the inhibition against cancer cells.\n",
      "Introduction\n",
      "Copper(II) polypyridyl and mixed-ligand polypyridyl complexes are one kind of well-known compounds for owning potential broad-spectrum toxicities against diseases and infections manifested by cancer, bacteria and antiviral activities. Many reports about phenanthroline-based copper complexes have screened for their specific anticancer activities, and some of them show inhibition against cancer cells in vitro and vivo. Additionally, lots of copper complexes based on phen have shown similar bioactivities to non-heme dioxygenases in the field of biomimetic syntheses. Moreover, many artificial organic bio-inhibitors containing imidazole moieties also have displayed specific antitumor activities, for example, the synthetic histone deacetylase shows good activities against multiple cancer cell lines. Furthermore, metal complexes, such as Rh and Ru, with imidazole moieties also have antitumour activities. However, to the best of our knowledge, the investigations of Cu(II) complexes containing the imidazole moiety for their potential antitumor activities are still not sufficient up-to-date. Moreover, the imidazole group of the protein histidyl residues has been demonstrated as an important binding site for a wide variety of metalloproteins and the coordination ability of the imidazole group has profound effects on its functions of biological system. So we prepared two Cu(II) complexes, [CuII(phen)(HIMC−)(H2O)]·[CuII(phen)(HIMC−)(NO3−)]·NO3−·H2O (1) and [CuII(2,2′-bipy)(HIMC−)]·NO3−·xH2O (2), containing one phen or 2,2′-bipy together with one HIMC− anion which was produced from the in situ decarboxylation of H3IDC under the hydrothermal conditions of an evaluated temperature and pressure (). Furthermore, we have tested their inhibition against A549 (lung cancer), Bel-7402 (liver cancer) and HCT-8 (colonic cancer) in vitro and their solid-state luminescence, and studied the relationships among their antitumor activities with their molecular composition.\n",
      "\n",
      "Experimental section\n",
      "Materials and measurements\n",
      "All reagents and solvents for the synthesis and analysis were obtained commercially, were of analytical grade and were used without further purification. All manipulations were carried out in the laboratory atmosphere. Elemental C, H and N analyses were performed on a Perkin Elmer analyzer. The IR spectra were recorded with KBr pellets on a Brucker EQUINOX 55 FT-spectrometer in the range of 4000–400 cm−1. The emission spectra of the solid samples were recorded on an F-4500 fluorescence spectrophotometer at room temperature.\n",
      "The synthesis of complex 1 and the initial characterization\n",
      "A mixture of Cu(NO3)2·3H2O (1.120 g, 0.5 mmol), phen (0.099 g, 0.5 mmol), H3IDC (0.078 g, 0.5 mmol), NaOH (0.030 g, 0.75 mmol) and H2O (12 ml) in a molar ratio of 1:1:1.5:1300 was stirred for 30 minutes in air, then transferred to a 25 ml Teflon-lined autoclave, sealed and heated at 180 °C for 3 days. After cooling, a blue suspension was formed. Then the suspension was filtered for at least two times and the obtained clear filtrate was allowed to stand for a few weeks at room temperature. Suitable blue and small plate-like single crystals of complex 1 were obtained for single crystal X-ray structure determination (yield: about 51% based on Cu). The elemental analyses data are as follows (%): C 44.27; H 2.92; N 16.17. Calcd (%): C 44.19, H 3.013, N 16.11. IR (selected data, KBr, ν/cm−1): 3424(m, b), 1627(m), 1587(m), 1519(m), 1428(s), 1385(s), 1226(m), 1145(m), 1106(m), 852(m), 791(m), 723(m), 649(m).\n",
      "The synthesis of complex 2 and the initial characterization\n",
      "The preparation method of complex 2 is similar to that of complex 1, except for 2,2′-bipy as the substitute of phen, as well as the same molar ratio of 1:1:1.5:1300. After the same process of the hydrothermal reaction, filtering and natural evaporation, a blue sheet-like solid chemical was obtained (yield: about 43% based on Cu). The crystal quality of the as-prepared complex 2 was not good enough for single crystal X-ray structure determination in this preparation method. So complex 2 only serves as a control chemical of complex 1 in the composition and MTT assay test. The elemental analyses data are as follows (%): C 37.71; H 3.78; N 15.75. IR (selected data, KBr, ν/cm−1): 3426(m), 3112(m), 1603(m), 1496(m), 1474(m), 1445(s), 1385(s), 1157(m), 1105(m), 1062(m), 1031(m), 826(m), 773(m), 731(m), 657(m). From the above initial characterization, we conclude that 2,2′-bipy, HIMC−, NO3− and H2O are included in this complex.\n",
      "X-ray crystallography\n",
      "The X-ray single-crystal diffraction studies of complex 1 were performed on a Bruker SMART APEXII diffraction meter quipped with a CCD area detector with a graphite monochromator situated in the incident beam for data collection. The determination of the unit cell parameters and data collection were performed with Mo Kα radiation (λ = 0.71073 Å) at room temperature in the ω–2θ scan mode. All data were corrected by the semi-empirical method using the SADABS program. The program SAINT was used for the integration of the diffraction profiles. All of the structures were solved by direct methods using the SHELXS program of the SHELXTL-97 package and refined with OLEX2. The metal atom centers were located from the E-maps and other non-hydrogen atoms were located in successive difference Fourier syntheses. The final refinements were performed by full matrix least-squares methods with anisotropic thermal parameters for non-hydrogen atoms. All of the hydrogen atoms were first found in difference electron density maps, and then placed in the calculated sites and included in the final refinement in the riding model approximation with the displacement parameters derived from the parent atoms to which they were bonded. The crystallographic data, CCDC number and experimental details for the structural analyses of complex 1 in this paper are summarized in .\n",
      "Table 1 The crystallographic data and structure refinement parameters for complex 1\n",
      "\n",
      "\n",
      "\n",
      "MTT assay test\n",
      "Tests on the cytotoxicity of complexes 1 and 2 against three human cancer cell lines, i.e. A549 (lung cancer), Bel-7402 (liver cancer), HCT-8 (colon cancer), were carried out by an MTT assay. The cells in logarithmic growth were cultured in a RPMI 1640 medium with 10% fetal bovine serum (FBS). The cell suspension (ca. 5000 cells per ml) was redistributed into 96-well micro plates equivalently, 100 μL per well. After preincubation (24 h at 37 °C, 5% CO2), a 10 μL test complex solution (dissolved in DMSO, and then diluted by saline to 5 μg ml−1) was added to each well and then each well was finally made up to 200 μL by RPMI 1640 medium.\n",
      "The incubation of cells with the test complex lasted for 72 h at 37 °C, in a humidified atmosphere of 5% CO2. The supernatant was removed, and 100 μL MTT (3-(4,5-dimethylthiazol-2-yl)-2,5-diphenyltetrazolium bromide) was added to each well. After 4 h incubation at 37 °C, the supernatant was removed again and the formazan precipitates formed were dissolved with 200 μL of dimethyl sulfoxide by sonic oscillation. The optical density of each well was measured at 544 nm wavelength using a micro plate reader. The inhibition ratio (%) was calculated as equation:\n",
      "in which ODc represents the absorbance of the contrast sample; ODt represents the absorbance of the test complex; OD0 represents the absorbance in the blank solution. By the MTT assay experiment, the inhibition ratios of complex 1 and 2in vitro are listed in . The clinical anticancer drug 5-Fu was used as the contrast.\n",
      "Results and discussion\n",
      "The molecular structure of complex 1\n",
      "The molecular structure of complex 1 is shown in , both the Cu1 and Cu2 coordinated with one phen and one HIMC− anion formed a square plane constructed by O1, N1, N3 and N4, and O3, N5, N7 and N8 respectively. The bond length of Cu1–N ranges from 1.978(4) to 2.011(4) Å, Cu1–O1 is 1.958(3) Å, Cu2–N range from 2.006(4) to 2.012(4) Å and Cu2–O3 is 1.951(3) Å. In addition, Cu1 linked with an NO3− anion apically constituted an elongated square pyramid with a Cu1⋯O7 bond length of 2.571 Å that is longer than the typical Cu–O coordination bond, while Cu2 is bonded to the apical H2O with a Cu2–O11 bond length of 2.267(3) Å which is also longer than other CuII–O bonds. More details on the coordination bond lengths and angles are listed in . In crystal 1, the [CuII(phen)(HIMC−)(H2O)]+ cation is anti-parallel aligned with [CuII(phen)(HIMC−)(NO3−)] along the b axis linked through the apical H2O, NO3− and the un-coordinated carboxylate oxygen of HIMC− to form a bi-layered supermolecular structure. Then the bi-layered superstructure connected along the b axis by lattice H2O and NO3− through hydrogen bonds and a π–π stacking interaction with the offset face-to-face distance 3.3 to 3.4 Å of the aromatic rings between the adjacent bi-layered units assembled into a four-layered unit with a repeating motif parallel aligned to construct the multi-layered crystal 1 ().\n",
      "\n",
      "Table 2 Selected bond lengths and angles of complex 1\n",
      "\n",
      "\n",
      "\n",
      "The composition of complex 2\n",
      "Based on the IR spectrum (Fig. S2, ESI) and the elemental analysis together with a comparison with complex 1, it is deduced that the composition of complex 2 is similar to that of complex 1, however 2,2′-bipy replaced the phen of complex 1 (). Therefore, compound 2 is also a mixed-ligand complex in which the Cu atom coordinated with two different ligands, 2,2′-bipy and HIMC−, forming a double chelating coordination compound. We have obtained crystals of complex 2, however unfortunately, the crystal quality is not good which might be caused by the thermal movement of the coordinated 2,2′-bipy in the crystal lattice, therefore we have not been able to obtain perfect crystallographic data. However, the crystallographic data, bond lengths and angles (Tables S1 and S2) still could be one kind of complementary information to support the fact that in complex 2 Cu coordinated with a 2,2′-bipy and a HIMC− aromatic ligand to form a square plane constituted by O and N from the HIMC−, and the two N atoms of the 2,2′-bipy.\n",
      "\n",
      "Cytotoxicity against human cancer cells of complex 1 and 2\n",
      "The inhibition ratios and the IC50 (the drug concentration causing a 50% reduction in cellular viability) of these complexes against cancer cells in vitro are listed in , and the clinical anticancer drug 5-fluorouracil (5-Fu) was used as the control. It can be seen from  that, against cancer cell A549 (lung cancer), Bel-7402 (liver cancer) and HCT-8 (colonic cancer), complex 1 with phen ligand possess excellent broad-spectrum anticancer activities, which are even higher than the fames clinical anticancer drug 5-Fu, however, complex 2 with the 2,2′-bipy ligand has little influence toward the cancer cells. Based on the data in , the inorganic CuSO4 shows a lower response to the cancer cells, however the activities increased significantly when CuII was coordinated with phen and is much higher than the free phen molecule, revealing that the mechanism of anticancer is attributed to the combined effects of Cu2+ and the coordinated phen. It is worth noting that the CuII combined with 2,2′-bipy presents a lower anticancer activity than with phen in [Cu(N–N)(NO3−)2] (L = phen or 2,2′-bipy), but exhibits almost the same anticancer activities with 2,2′-bipy in [{Cu(H2O)(L)}2{CuNb11O35H4}] (L = phen or 2,2′-bipy) of which (Nb6O19)8− shows a high effect toward cancer cells, indicating further that the anti-cancer activities of the CuII-compounds can be attributed to the combined effects of Cu2+ with other components. It is hard for the inorganic molecule CuSO4 to enter into cells, whereas it is easier for the CuII-complexes to pass the biomembrane with the help of the organic coordinated ligands. Complex 1 presented higher toxicities against the cancer cells than complex 2, because phen possess a higher inhibition against cancer cells than 2,2′-bipy.\n",
      "Table 3 The anticancer activities of complex 1 and 2 against human cancer cells in vitro\n",
      "\n",
      "\n",
      "\n",
      "The relative changes of the Gibbs free energies (ΔG) of the complexes decomposing into Cu2+ and the changes of the energy gap between π*–π from the free to coordinated ligands (ΔE)\n",
      "To reveal the mechanism of the anticancer activities, the relative changes of the Gibbs free energies (ΔG) for the complexes decomposing into Cu2+ are calculated. The ΔG of complex 1 and 2 are 0 and 7 kcal mol−1 respectively (), indicating that complex 1 is easier to disassociate into free Cu2+ and ligands more than complex 2. From , it can be seen that the inorganic molecule CuSO4 shows less inhibition against cancer cells, which can be attributed to the fact that it is hard for the inorganic molecule to enter into cells. However, it is easier for the CuII-complexes to pass the biomembrane with the help of the organic coordinated ligands. After entering the cells, the free Cu2+ and ligands play their parts individually in the anticancer activities and are more important than the coordinated CuII-complexes, so the relative changes of the Gibbs free energies for the complexes decomposing into free Cu2+ and ligands are significant. Complex 1 with coordinated phen is easier to decompose into Cu2+ and free ligands than complex 2 with coordinated 2,2′-bipy, therefore complex 1 presented higher toxicities against cancer cells than complex 2, due to the fact that phen possess a higher inhibition against cancer cells than 2,2′-bipy.\n",
      "\n",
      "To illustrate the stabilization of the two complexes further, the changes of the energy gaps between π*–π from the free to coordinated aromatic ligands (ΔE) of the complexes are calculated. As shown in , the energy gap between the π*–π of the coordinated phen is 4.5 eV which is smaller than that of the free phen (4.8 eV), therefore the ΔE is 0.3 eV from the free to CuII-coordinated state for phen. The same as complex 1, the energy difference between the π*–π of coordinated 2,2′-bipy is 4.0 eV which is smaller than that of free 2,2′-bipy (5.3 eV), hence the ΔE is 1.3 eV from the free to CuII-coordinated state for 2,2′-bipy. The higher the ΔE is, the higher the increase of the stabilization for the related complex. Therefore the more stable complex 2 coordinated by 2,2′-bipy with Cu2+ is harder to dissociate into free Cu2+ and ligands compared to 1 combined by phen with Cu2+, which supports the conclusion obtained from ΔG. The stabilization and decomposition of the CuII-coordinated complex might play an important part in the toxicity against cancer cells, which might result in the fact that complex 1 exhibited more inhibition against cancer cells than 2in vitro.\n",
      "\n",
      "The calculations for the relative changes of the Gibbs free energies (ΔG) were carried out with the Gaussian 03 program. The hybrid density functional B3LYP and 6-31+G(d) basis set were used to fully optimize the structures of compounds 1 and 2 as well as to obtain their Gibbs free energies. The solvent effect was considered through a PCM model for all the calculations. The π* and π energies of the free and coordinated aromatic ligands of the complexes are calculated with the B3LYP/6-31+G* method using the Gaussian 03 program.\n",
      "The solid-state luminescences of the ligands in complexes 1 and 2\n",
      "Unlike the fact that the luminescence intensities decreased when 1H-benzotriazol-1-acetic acid hydrazide was coordinated with CuII in aqueous solution, the solid-state luminescence intensities of the coordinated phen here increased, as well as the coordinated 2,2′-bipy. The solid-state emission spectra of complex 1 and 2 and the free aromatic ligands were recorded at room temperature. As shown in , the three free aromatic ligands display very weak intensities in the emission spectra, of which the free phen exhibited a band centered at 437 nm with a left shoulder at 420 nm (λex = 374 nm). The free 2,2′-bipy presented a main peak at 412 nm with one left shoulder at 375 nm and two smaller bands at 433 nm and 462 nm and the free H3IDC presents a broad band at about 468 nm (λex = 374 nm).\n",
      "\n",
      "However, their associated complexes 1 and 2 exhibit varied emission spectra with an enhancement in the intensities which are slightly red-shifted. Complex 1 exhibited a similar spectrum to the free phen at 437 nm with a left shoulder at 421 nm (λex = 360 nm) and with a 2250 a.u. increase in intensity. It is worth noting that complex 2 displayed a peak at 439 nm with a left shoulder at about 422 nm (λex = 288 nm), with a much stronger enhancement of about 4300 a.u. in intensity. Furthermore it was about 28 nm red-shifted compared to the main peak of the free 2,2′-bipy ligand. Since the CuII cation exhibit no ability for a luminescence emission, all of the emission spectra originated from the π*–π transition of the coordinated aromatic ligands. However, the luminescence intensities of the coordinated phen increased, which may be due to the formation of the co-planar structure [CuII(phen)(HIMC−)]. This enhancement can also contribute to the coordination interactions because it enhances the structure rigidity, and the rigidity framework reduces the excited state distortion, fluorescence quenching and non-radioactivity. Significantly, the similarity of the increases in the luminescent intensities and wave lengths of complexes 1 with 2 supported the result that the molecular structure of complex 2 is similar to that of complex 1 deduced by us above; that is a 2,2′-bipy and a HIMC− coordinated with CuII formed complex 2 which is similar to the phen and a HIMC− coordinated with CuII in complex 1.\n",
      "Conclusions\n",
      "In summary, using HIMC− that is produced by an in situ decarboxylation from H3IDC at 180 °C and the catalysis of CuII as assistant ligands, two mono-nuclear CuII complexes have been synthesized with phen or 2,2′-bipy. Their anticancer activities in vitro, solid luminescent spectra and the single crystal structure of 1 have been determined, and the composition of complex 2 has been deduced based on elemental analysis, IR, luminescence and a comparison with complex 1. The decrease in the energy gap between π*–π from the free to the coordinated ligand for 2,2′-bipy and phen (ΔE), and the relative changes of the Gibbs free energies (ΔG) for complexes 1 and 2 decomposing into free Cu2+ and ligands are calculated by the Gaussian 03 program. By relating the ΔE, ΔG, luminescent qualities and anticancer toxicities of the complexes with their composition, it can be concluded that both the CuII and their coordinated ligands are responsible for the inhibition against cancer cells in vitro.\n",
      "Acknowledgements\n",
      "We gratefully acknowledge financial support from the Natural National Science Foundation (grant no. 21173150) and the foundation of the Fujian Institute of Research on the structure of Matter, Chinese Academy (grant no. 20130007).\n",
      "References\n",
      "\n"
     ]
    }
   ],
   "source": [
    "# Now that we can see what is in the class above, we can access\n",
    "# certain parts of this that might be useful for text mining.\n",
    "# The full text will be under full_paper, and if we want the\n",
    "# paper tokenized by sentences, that would be under full_paper_sentences.\n",
    "\n",
    "print('authors',loaded_article_class.authors)\n",
    "print('abstract',loaded_article_class.abstract)\n",
    "print('figure captions',loaded_article_class.figure_captions)\n",
    "print('full_paper',loaded_article_class.full_paper)\n",
    "\n",
    "# When the field is not present or is \"False\", that means\n",
    "# We could not automatically parse the manuscript to fill the keys\n",
    "# of interest. "
   ]
  },
  {
   "cell_type": "code",
   "execution_count": 59,
   "metadata": {},
   "outputs": [
    {
     "name": "stdout",
     "output_type": "stream",
     "text": [
      "!!!! No keywords matched in this sentence. Polarity: 0.0\n",
      "!!!! No keywords matched in this sentence. Polarity: -0.836\n",
      "!!!! No keywords matched in this sentence. Polarity: 0.0\n",
      "====sentence contains at least one kw=====\n",
      "the ir, elemental analysis and solid state luminescent spectra of complexes 1 and 2 indicated that the composition of these two complexes are similar, whereas the 2,2′ bipy in complex 2 replaced phen in complex 1. the calculation by the gaussian 03 program illustrated that the decrease in the energy gaps between π* π from the free to the coordinated ligand for 2,2′ bipy and phen (δe) are 5.3 ev to 4.0 ev and 4.8 ev to 4.5 ev separately, and the relative changes of the gibbs free energies (δg) for complex 1 and 2 decomposing into free cu2+ and ligands are about 0 kcal mol−1 and 7 kcal mol−1 respectively, which revealed that it is more stable when 2,2′ bipy is coordinated with cuii than phen, and 1 is easier to disassociate into free cu2+ than 2. by relating the δe, δg, luminescent qualities and anticancer toxicities of the complexes with their composition, it can be concluded that both cuii and their coordinated ligands are responsible for the inhibition against cancer cells.\n",
      "==== VADER SENTIMENT ON SENTENCE! =====\n",
      "0.9577\n"
     ]
    }
   ],
   "source": [
    "# At this point, we may want to text mine the abstract of the\n",
    "# above paper for certain keywords. My dummy word will be luminescent.\n",
    "from text_mining_tools.full_text_mine import VADER_analysis\n",
    "keywords = ['luminescent']\n",
    "sentences = loaded_article_class.abstract_sentences\n",
    "kw_in_list, polarity_list = VADER_analysis(sentences,keywords)\n",
    "\n",
    "for i, val in enumerate(sentences):\n",
    "    if i in kw_in_list:\n",
    "        print('====sentence contains at least one kw=====')\n",
    "        print(val)\n",
    "        print('==== VADER SENTIMENT ON SENTENCE! =====')\n",
    "        print(polarity_list[i])\n",
    "    else:\n",
    "        print('!!!! No keywords matched in this sentence. Polarity: '+str(polarity_list[i]))"
   ]
  },
  {
   "cell_type": "code",
   "execution_count": 60,
   "metadata": {},
   "outputs": [
    {
     "name": "stdout",
     "output_type": "stream",
     "text": [
      "ATTEMPTING DOWNLOAD! 10.1039/c7sc01247k\n"
     ]
    }
   ],
   "source": [
    "# There may be situations where you want to \n",
    "# populate a new article class given a DOI\n",
    "# This can be done as follows:\n",
    "\n",
    "# This makes a temporary directory \n",
    "# and then downloads the articles\n",
    "# into this temporary directory, \n",
    "# which is basically a new corpus\n",
    "if not os.path.exists('temporary_dir/'):\n",
    "    os.mkdir('temporary_dir')\n",
    "basepath = os.getcwd()+'/temporary_dir/'\n",
    "\n",
    "# Using JP's Chemical Science paper to \n",
    "# download the article and create an article class\n",
    "temp_article = Article(doi='10.1039/c7sc01247k',basepath=basepath)"
   ]
  },
  {
   "cell_type": "code",
   "execution_count": 61,
   "metadata": {},
   "outputs": [],
   "source": [
    "# Under the hood, the following is happening\n",
    "# for article downloads:\n",
    "#\n",
    "# from articledownloader.articledownloader import ArticleDownloader\n",
    "# downloader = ArticleDownloader()\n",
    "# downloader.get_html_from_doi('10.1039/c7sc01247k')"
   ]
  },
  {
   "cell_type": "code",
   "execution_count": 62,
   "metadata": {},
   "outputs": [
    {
     "data": {
      "text/plain": [
       "['c7sc01247k.html']"
      ]
     },
     "execution_count": 62,
     "metadata": {},
     "output_type": "execute_result"
    }
   ],
   "source": [
    "# we can check to make sure the download happened\n",
    "os.listdir('temporary_dir/10.1039/')"
   ]
  },
  {
   "cell_type": "code",
   "execution_count": 63,
   "metadata": {},
   "outputs": [],
   "source": [
    "# Then, we can do a full analysis of\n",
    "# the article to break it into sections.\n",
    "# This should take a couple seconds.\n",
    "temp_article.full_analysis()"
   ]
  },
  {
   "cell_type": "code",
   "execution_count": 64,
   "metadata": {},
   "outputs": [
    {
     "name": "stdout",
     "output_type": "stream",
     "text": [
      "['Heather J. Kulik', 'Jon Paul Janet']\n"
     ]
    }
   ],
   "source": [
    "# The article is now populated and ready\n",
    "# for future analysis! The sections can\n",
    "# be analyzed.\n",
    "print(temp_article.authors)"
   ]
  },
  {
   "cell_type": "code",
   "execution_count": 65,
   "metadata": {},
   "outputs": [],
   "source": [
    "# Now that we are done, it is best to store the article\n",
    "# as a pickle file so that we do not have to do this\n",
    "# process each time for the same article.\n",
    "\n",
    "# This step needs to be done because\n",
    "# some of the article classes can \n",
    "# get pretty large and it is needed\n",
    "# to pickle them\n",
    "import sys\n",
    "sys.setrecursionlimit(1000000)\n",
    "\n",
    "if not os.path.exists('temporary_dir/pickles'):\n",
    "    os.mkdir('temporary_dir/pickles')\n",
    "prefix = temp_article.doi.split('/')[0]\n",
    "if not os.path.exists('temporary_dir/pickles/'+str(prefix)):\n",
    "    os.mkdir('temporary_dir/pickles/'+str(prefix))\n",
    "import pickle\n",
    "with open('temporary_dir/pickles/'+str(temp_article.doi)+'.pkl','wb') as f:\n",
    "    pickle.dump(temp_article,f)"
   ]
  },
  {
   "cell_type": "code",
   "execution_count": null,
   "metadata": {},
   "outputs": [],
   "source": []
  }
 ],
 "metadata": {
  "kernelspec": {
   "display_name": "Python [conda env:tm_hjk] *",
   "language": "python",
   "name": "conda-env-tm_hjk-py"
  },
  "language_info": {
   "codemirror_mode": {
    "name": "ipython",
    "version": 3
   },
   "file_extension": ".py",
   "mimetype": "text/x-python",
   "name": "python",
   "nbconvert_exporter": "python",
   "pygments_lexer": "ipython3",
   "version": "3.8.10"
  }
 },
 "nbformat": 4,
 "nbformat_minor": 2
}
