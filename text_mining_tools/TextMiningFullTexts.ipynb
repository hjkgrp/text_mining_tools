{
 "cells": [
  {
   "cell_type": "code",
   "execution_count": 1,
   "metadata": {},
   "outputs": [],
   "source": [
    "# To use this notebook, you need to have the following installed in your conda env\n",
    "# conda install -c conda-forge nb_conda_kernels\n",
    "# conda install -c anaconda-nb-extensions nb_conda\n",
    "# conda install -c anaconda ipython\n",
    "\n",
    "# And then you need to check that the kernel is set to your conda env. Else things wont work."
   ]
  },
  {
   "cell_type": "code",
   "execution_count": 2,
   "metadata": {},
   "outputs": [
    {
     "name": "stdout",
     "output_type": "stream",
     "text": [
      "[0] [0.6249]\n"
     ]
    }
   ],
   "source": [
    "# This is just an example of sentiment analysis on a random sentence\n",
    "from text_mining_tools.full_text_mine import VADER_analysis\n",
    "keywords = ['analysis']\n",
    "sentence = ['This is just an example of me showing how great sentiment analysis is.']\n",
    "kw_in_list, polarity_list = VADER_analysis(sentence,keywords)\n",
    "\n",
    "print(kw_in_list,polarity_list)"
   ]
  },
  {
   "cell_type": "code",
   "execution_count": 3,
   "metadata": {},
   "outputs": [
    {
     "name": "stderr",
     "output_type": "stream",
     "text": [
      "2021-07-27 01:18:02 INFO: Loading these models for language: en (English):\n",
      "=========================\n",
      "| Processor | Package   |\n",
      "-------------------------\n",
      "| tokenize  | ewt       |\n",
      "| pos       | ewt       |\n",
      "| lemma     | ewt       |\n",
      "| depparse  | ewt       |\n",
      "| sentiment | sstplus   |\n",
      "| ner       | ontonotes |\n",
      "=========================\n",
      "\n",
      "2021-07-27 01:18:02 INFO: Use device: cpu\n",
      "2021-07-27 01:18:02 INFO: Loading: tokenize\n",
      "2021-07-27 01:18:02 INFO: Loading: pos\n",
      "2021-07-27 01:18:03 INFO: Loading: lemma\n",
      "2021-07-27 01:18:03 INFO: Loading: depparse\n",
      "2021-07-27 01:18:04 INFO: Loading: sentiment\n",
      "2021-07-27 01:18:06 INFO: Loading: ner\n",
      "2021-07-27 01:18:06 INFO: Done loading processors!\n"
     ]
    }
   ],
   "source": [
    "### This uses chemdataextractor and stanza.\n",
    "### install them via pip. \n",
    "\n",
    "### pip install stanza\n",
    "### pip install ChemDataExtractor\n",
    "### pip install nltk\n",
    "\n",
    "from chemdataextractor.nlp.tokenize import ChemWordTokenizer\n",
    "from chemdataextractor.nlp.pos import ChemCrfPosTagger\n",
    "from chemdataextractor import Document\n",
    "from nltk.sentiment.vader import SentimentIntensityAnalyzer\n",
    "from nltk.corpus import wordnet as wn\n",
    "import chemdataextractor\n",
    "import stanza\n",
    "nlp = stanza.Pipeline('en')\n"
   ]
  },
  {
   "cell_type": "code",
   "execution_count": 4,
   "metadata": {},
   "outputs": [
    {
     "name": "stdout",
     "output_type": "stream",
     "text": [
      "example This\n",
      "example is\n",
      "example just\n",
      "example an\n",
      "ROOT example\n",
      "me of\n",
      "example me\n",
      "example showing\n",
      "showing how\n",
      "analysis great\n",
      "analysis sentiment\n",
      "how analysis\n",
      "how is\n",
      "example .\n"
     ]
    },
    {
     "name": "stderr",
     "output_type": "stream",
     "text": [
      "/Users/adityanandy/anaconda2/envs/tm_for_hjk/lib/python3.6/site-packages/torch/nn/functional.py:652: UserWarning: Named tensors and all their associated APIs are an experimental feature and subject to change. Please do not use them for anything important until they are released as stable. (Triggered internally at  ../c10/core/TensorImpl.h:1156.)\n",
      "  return torch.max_pool1d(input, kernel_size, stride, padding, dilation, ceil_mode)\n"
     ]
    }
   ],
   "source": [
    "### Example of dependency parsing for a simple sentence.\n",
    "sentence = ['This is just an example of me showing how great sentiment analysis is.']\n",
    "doc = nlp(sentence[0])\n",
    "for subsentence in doc.sentences:\n",
    "    dependencies = subsentence.dependencies\n",
    "    word1, word2 = None,None\n",
    "    for dependency in dependencies:\n",
    "        if isinstance(dependency[0].text,str):\n",
    "            word1 = dependency[0].text\n",
    "        if isinstance(dependency[2].text,str):\n",
    "            word2 = dependency[2].text\n",
    "        print(word1,word2)"
   ]
  },
  {
   "cell_type": "code",
   "execution_count": 10,
   "metadata": {},
   "outputs": [
    {
     "name": "stdout",
     "output_type": "stream",
     "text": [
      "title Predicting electronic structure properties of transition metal complexes with neural networks\n",
      "abstract © The Royal Society of Chemistry 2017.High-throughput computational screening has emerged as a critical component of materials discovery. Direct density functional theory (DFT) simulation of inorganic materials and molecular transition metal complexes is often used to describe subtle trends in inorganic bonding and spin-state ordering, but these calculations are computationally costly and properties are sensitive to the exchange-correlation functional employed. To begin to overcome these challenges, we trained artificial neural networks (ANNs) to predict quantum-mechanically-derived properties, including spin-state ordering, sensitivity to Hartree-Fock exchange, and spin-state specific bond lengths in transition metal complexes. Our ANN is trained on a small set of inorganic-chemistry-appropriate empirical inputs that are both maximally transferable and do not require precise three-dimensional structural information for prediction. Using these descriptors, our ANN predicts spin-state splittings of single-site transition metal complexes (i.e., Cr-Ni) at arbitrary amounts of Hartree-Fock exchange to within 3 kcal mol-1 accuracy of DFT calculations. Our exchange-sensitivity ANN enables improved predictions on a diverse test set of experimentally-characterized transition metal complexes by extrapolation from semi-local DFT to hybrid DFT. The ANN also outperforms other machine learning models (i.e., support vector regression and kernel ridge regression), demonstrating particularly improved performance in transferability, as measured by prediction errors on the diverse test set. We establish the value of new uncertainty quantification tools to estimate ANN prediction uncertainty in computational chemistry, and we provide additional heuristics for identification of when a compound of interest is likely to be poorly predicted by the ANN. The ANNs developed in this work provide a strategy for screening transition metal complexes both with direct ANN prediction and with improved structure generation for validation with first principles simulation.\n"
     ]
    }
   ],
   "source": [
    "from pybliometrics.scopus import AbstractRetrieval\n",
    "# Get abstract from JP's Chemical Science paper\n",
    "ab = AbstractRetrieval(\"10.1039/c7sc01247k\")\n",
    "print('title', ab.title)\n",
    "print('abstract',ab.description)\n",
    "# This can then be used for parsing!"
   ]
  },
  {
   "cell_type": "code",
   "execution_count": 5,
   "metadata": {},
   "outputs": [
    {
     "name": "stdout",
     "output_type": "stream",
     "text": [
      "/Users/adityanandy/Desktop/text_mining_tools/text_mining_tools\n",
      "3.6.10\n"
     ]
    }
   ],
   "source": [
    "from platform import python_version\n",
    "import os, shutil\n",
    "import numpy as np\n",
    "print(os.getcwd())\n",
    "# if os.path.exists('corpus_example'):\n",
    "#     shutil.rmtree('corpus_example')\n",
    "# os.mkdir('corpus_example')\n",
    "print(python_version())"
   ]
  },
  {
   "cell_type": "code",
   "execution_count": 1,
   "metadata": {},
   "outputs": [],
   "source": [
    "'''\n",
    "These are the two major classes for doing full\n",
    "text mining. The Query class is used to get papers.\n",
    "The article class is used to mine papers that have\n",
    "been downloaded. You can use the article class without\n",
    "any thing from the query class, should you already \n",
    "have the papers that you want to mine downloaded in\n",
    "HTML form. If you are mining a small number of texts\n",
    "(i.e. some ACS texts), you can do this directly.\n",
    "''' \n",
    "from text_mining_tools.full_text_mine import execute_query\n",
    "from text_mining_tools.query import Query\n",
    "from text_mining_tools.article import Article"
   ]
  },
  {
   "cell_type": "code",
   "execution_count": 2,
   "metadata": {},
   "outputs": [
    {
     "name": "stdout",
     "output_type": "stream",
     "text": [
      "THESE ARE THE QUERIES ['predicting%20electronic%20structure%20with%20artificial%20neural%20networks']\n",
      "mapping_to_return chem_sci\n",
      "Now querying predicting%20electronic%20structure%20with%20artificial%20neural%20networks in chemical_science\n",
      "------------- only querying 10.1039 ------------\n",
      "['10.1039/c7sc01247k', '10.1039/c2sc20688a', '10.1039/c8sc02339e', '10.1039/d1sc01049b', '10.1039/c8sc02648c', '10.1039/c2sc20177a', '10.1039/d1sc01895g', '10.1039/c4sc00603h', '10.1039/c4sc03321c', '10.1039/d1sc01206a']\n",
      "                  doi           journal       issn  \\\n",
      "0  10.1039/c7sc01247k  chemical_science  2041-6539   \n",
      "1  10.1039/c2sc20688a  chemical_science  2041-6539   \n",
      "2  10.1039/c8sc02339e  chemical_science  2041-6539   \n",
      "3  10.1039/d1sc01049b  chemical_science  2041-6539   \n",
      "4  10.1039/c8sc02648c  chemical_science  2041-6539   \n",
      "5  10.1039/c2sc20177a  chemical_science  2041-6539   \n",
      "6  10.1039/d1sc01895g  chemical_science  2041-6539   \n",
      "7  10.1039/c4sc00603h  chemical_science  2041-6539   \n",
      "8  10.1039/c4sc03321c  chemical_science  2041-6539   \n",
      "9  10.1039/d1sc01206a  chemical_science  2041-6539   \n",
      "\n",
      "                                               query       api  \n",
      "0  predicting%20electronic%20structure%20with%20a...  crossref  \n",
      "1  predicting%20electronic%20structure%20with%20a...  crossref  \n",
      "2  predicting%20electronic%20structure%20with%20a...  crossref  \n",
      "3  predicting%20electronic%20structure%20with%20a...  crossref  \n",
      "4  predicting%20electronic%20structure%20with%20a...  crossref  \n",
      "5  predicting%20electronic%20structure%20with%20a...  crossref  \n",
      "6  predicting%20electronic%20structure%20with%20a...  crossref  \n",
      "7  predicting%20electronic%20structure%20with%20a...  crossref  \n",
      "8  predicting%20electronic%20structure%20with%20a...  crossref  \n",
      "9  predicting%20electronic%20structure%20with%20a...  crossref  \n",
      "----\n",
      "You are about to download 10is this truly what you want? (recommended < 1000). (y/n): y\n",
      "OK, beginning download.\n",
      "dict_values(['10.1039/c7sc01247k', '10.1039/c2sc20688a', '10.1039/c8sc02339e', '10.1039/d1sc01049b', '10.1039/c8sc02648c', '10.1039/c2sc20177a', '10.1039/d1sc01895g', '10.1039/c4sc00603h', '10.1039/c4sc03321c', '10.1039/d1sc01206a'])\n",
      "doi 10.1039/c7sc01247k\n",
      "ATTEMPTING DOWNLOAD! 10.1039/c7sc01247k\n",
      "doi 10.1039/c2sc20688a\n",
      "ATTEMPTING DOWNLOAD! 10.1039/c2sc20688a\n",
      "doi 10.1039/c8sc02339e\n",
      "ATTEMPTING DOWNLOAD! 10.1039/c8sc02339e\n",
      "doi 10.1039/d1sc01049b\n",
      "ATTEMPTING DOWNLOAD! 10.1039/d1sc01049b\n",
      "doi 10.1039/c8sc02648c\n",
      "ATTEMPTING DOWNLOAD! 10.1039/c8sc02648c\n",
      "doi 10.1039/c2sc20177a\n",
      "ATTEMPTING DOWNLOAD! 10.1039/c2sc20177a\n",
      "doi 10.1039/d1sc01895g\n",
      "ATTEMPTING DOWNLOAD! 10.1039/d1sc01895g\n",
      "doi 10.1039/c4sc00603h\n",
      "ATTEMPTING DOWNLOAD! 10.1039/c4sc00603h\n",
      "doi 10.1039/c4sc03321c\n",
      "ATTEMPTING DOWNLOAD! 10.1039/c4sc03321c\n",
      "doi 10.1039/d1sc01206a\n",
      "ATTEMPTING DOWNLOAD! 10.1039/d1sc01206a\n"
     ]
    }
   ],
   "source": [
    "'''\n",
    "Let's first use the query wrapper, which comes\n",
    "from full_text_mine. This wrapper just makes sure\n",
    "the query gets pickled, in case we want to access \n",
    "it later and forget to save it.\n",
    "\n",
    "We need to set a basepath. This is where corpus is stored.\n",
    "\n",
    "Elsevier key is needed if you want to also search the\n",
    "Elsevier database. By default, we work off of crossref \n",
    "which is an open API that doesn't require a key.\n",
    "\n",
    "journal_limit is the set of journals you want to \n",
    "query. \n",
    "\n",
    "number_of_results is how many results you want per\n",
    "journal\n",
    "\n",
    "query_name is what you want the pickle file to be\n",
    "saved as after you perform the query.\n",
    "\n",
    "keywords = what you're searching for.\n",
    "'''\n",
    "### Let's try to find JP's paper in chemical science and analyze it. DOI: 10.1039/c7sc01247k. \n",
    "### We are doing this WITHOUT explicit knowledge of the DOI!\n",
    "\n",
    "keywords = ['predicting electronic structure with artificial neural networks']\n",
    "journal_limit = ['chem_sci']\n",
    "query_name = 'my_results'\n",
    "basepath = '/Users/adityanandy/Desktop/mine_test/corpus_example/'\n",
    "### Currently this assumes that the articles are downloaded. Switch automate_download to True if not.\n",
    "my_query = execute_query(basepath, keywords, elsevier_key=None,journal_limit=journal_limit, \\\n",
    "                        number_of_results=10, query_name=False, automate_download=True)"
   ]
  },
  {
   "cell_type": "code",
   "execution_count": 3,
   "metadata": {},
   "outputs": [],
   "source": [
    "# By default, the query class constructs the article classes.\n",
    "# We can take one and analyze it.\n",
    "my_article = my_query.article_dict['10.1039/c7sc01247k']"
   ]
  },
  {
   "cell_type": "code",
   "execution_count": 4,
   "metadata": {},
   "outputs": [],
   "source": [
    "# There are a few routines in the article class. You can look\n",
    "# at each of these routines to obtain what you want, but the\n",
    "# majority of the functionality of the article should already \n",
    "# be there. Let's populate all the info we can get about this \n",
    "# article.\n",
    "my_article.full_analysis()"
   ]
  },
  {
   "cell_type": "code",
   "execution_count": 5,
   "metadata": {},
   "outputs": [
    {
     "name": "stdout",
     "output_type": "stream",
     "text": [
      "['Heather J. Kulik', 'Jon Paul Janet']\n",
      "chemical_science\n",
      "{1: '1. Introduction', 2: '2. Methods', 3: '3. Results and discussion', 4: '4. Conclusions', 5: 'Acknowledgements', 6: 'References'}\n",
      "High-throughput computational screening has emerged as a critical component of materials discovery. Direct density functional theory (DFT) simulation of inorganic materials and molecular transition metal complexes is often used to describe subtle trends in inorganic bonding and spin-state ordering, but these calculations are computationally costly and properties are sensitive to the exchange–correlation functional employed. To begin to overcome these challenges, we trained artificial neural networks (ANNs) to predict quantum-mechanically-derived properties, including spin-state ordering, sensitivity to Hartree–Fock exchange, and spin-state specific bond lengths in transition metal complexes. Our ANN is trained on a small set of inorganic-chemistry-appropriate empirical inputs that are both maximally transferable and do not require precise three-dimensional structural information for prediction. Using these descriptors, our ANN predicts spin-state splittings of single-site transition metal complexes (i.e., Cr–Ni) at arbitrary amounts of Hartree–Fock exchange to within 3 kcal mol−1 accuracy of DFT calculations. Our exchange-sensitivity ANN enables improved predictions on a diverse test set of experimentally-characterized transition metal complexes by extrapolation from semi-local DFT to hybrid DFT. The ANN also outperforms other machine learning models (i.e., support vector regression and kernel ridge regression), demonstrating particularly improved performance in transferability, as measured by prediction errors on the diverse test set. We establish the value of new uncertainty quantification tools to estimate ANN prediction uncertainty in computational chemistry, and we provide additional heuristics for identification of when a compound of interest is likely to be poorly predicted by the ANN. The ANNs developed in this work provide a strategy for screening transition metal complexes both with direct ANN prediction and with improved structure generation for validation with first principles simulation.\n"
     ]
    }
   ],
   "source": [
    "#### What do I get? Let's take a look.\n",
    "print(my_article.authors)\n",
    "print(my_article.journal_name)\n",
    "print(my_article.section_name_dict)\n",
    "print(my_article.abstract)"
   ]
  },
  {
   "cell_type": "code",
   "execution_count": 10,
   "metadata": {},
   "outputs": [],
   "source": [
    "# Ok, I want to do sentiment analysis on the abstract.\n",
    "# What can I do?\n",
    "from text_mining_tools.full_text_mine import VADER_analysis\n",
    "import numpy as np\n",
    "keyword = 'neural network' # This argument can also be a list...\n",
    "keywords = ['ANN','machine learning']\n",
    "kw_in_list, polarity_list = VADER_analysis(my_article.abstract_sentences,keywords)"
   ]
  },
  {
   "cell_type": "code",
   "execution_count": 11,
   "metadata": {},
   "outputs": [
    {
     "name": "stdout",
     "output_type": "stream",
     "text": [
      "['the ann also outperforms other machine learning models (i.e., support vector regression and kernel ridge regression), demonstrating particularly improved performance in transferability, as measured by prediction errors on the diverse test set.']\n",
      "[0.5709]\n"
     ]
    }
   ],
   "source": [
    "print([val for i, val in enumerate(my_article.abstract_sentences) if i in kw_in_list])\n",
    "print([polarity_list[i] for i, val in enumerate(my_article.abstract_sentences) if i in kw_in_list])"
   ]
  },
  {
   "cell_type": "code",
   "execution_count": 12,
   "metadata": {},
   "outputs": [
    {
     "name": "stdout",
     "output_type": "stream",
     "text": [
      "9 9\n"
     ]
    }
   ],
   "source": [
    "print(len(my_article.abstract_sentences),len(polarity_list))"
   ]
  },
  {
   "cell_type": "code",
   "execution_count": 13,
   "metadata": {},
   "outputs": [
    {
     "name": "stdout",
     "output_type": "stream",
     "text": [
      "['To begin to overcome these challenges, we trained artificial neural networks (ANNs) to predict quantum mechanically derived properties, including spin state ordering, sensitivity to Hartree Fock exchange, and spin state specific bond lengths in transition metal complexes.', 'In Section 3, we provide the Results and discussion on the trained neural networks for spin state ordering, spin state exchange sensitivity, and bond length prediction on both training set representative complexes and diverse experimental complexes.', 'We address overfitting using dropout, wherein robustness of the fit is improved by zeroing out nodes in the network with an equal probability, pdrop, at each stage of training (5% for spin state splitting, 15% for HF exchange sensitivity, and 30% for bond lengths, selected by trial and error).', 'The parameter with the lowest average prediction error is used to select the best regularization parameter: 5 × 10−4 for spin state splitting, 10−2 for HF exchange sensitivity, and 10−3 for bond lengths.', 'We varied and optimized the learning rate between 0.05 and 1.5, and optimal rates were selected as 1.0 (bond lengths) and 1.5 (spin state splitting or HF exchange sensitivity).', 'We obtain τ values of 0.6 for spin state splitting, 0.07 for HF exchange sensitivity, and 10000 for bond lengths (see Section 3).', 'Exchange sensitivity provides value both for extrapolation of computed (see Section 3.6) or literature values obtained at an arbitrary exchange mixing and in identification of cases of high sensitivity to DFT functional choice.3.4 Predicting equilibrium geometries with an ANNUsing our descriptor set, we trained an ANN on the minimum metal ligand bond distances for both low spin and high spin geometries (min(RLS/HS)), which only differ from the exact metal ligand bond length for distorted or heteroleptic compounds.', 'This ANN for bond length prediction extends capabilities we have recently introduced for generating high quality transition metal complex geometries in order to enable spin state dependent predictions without requiring extended geometry optimization.', 'Thus, if the ANN bond length predictions are accurate, adiabatic spin state splittings can be obtained from DFT single points at ANN predicted HS only or both LS/HS geometries.Metal ligand bond distances in the aHF = 0.20 data set vary from min(RLS) = 1.81 Å (in Fe(II)(pisc)2(Cl−)4) to min(RHS) = 2.55 Å (in Fe(III)(Cl−)6).', 'The metal ligand bond length ANN produces comparable RMSE across training (0.02 Å for LS and HS) and test (0.02 Å for LS and 0.03 Å for HS) data with comparable errors regardless of metal identity and oxidation  or spin state (ESI Tables S27 S29 and Fig.', 'ANN bond length std.', 'of ANN predicted bond lengths, respectively (ESI Fig.', 'S17 and S23).The ANN bond lengths fall outside of computed values for low spin Fe(III) complexes by more than a full standard deviation in seven cases, e.g., underestimating Fe C distances in CN (7 5, 13 5) and pisc (3 7, 3 13) complexes ().', 'Non additive bond length effects motivate the use of the ANN in initial geometry construction.', 'Indeed, when we use ANN predicted metal ligand bond lengths in structure generation instead of our previous strategy based on a discrete database of DFT bond lengths, we reduce the metal ligand component of the gradient by 54 90% (ESI Text S4, Fig.', 'The ANN predicted bond lengths and spin states are now available in molSimplify as an improved tool for structure generation.3.5 Expanding the test set with experimental transition metal complexesIn order to test the broad applicability of the trained ANNs, we selected 35 homoleptic and heteroleptic octahedral complexes from the Cambridge Structural Database (CSD) with a range of metals (Cr to Ni) and direct ligand atom types (N, C, O, S, Cl) (ESI Table S30).', 'We have implemented the Euclidean norm metric alongside the ANN in our automated screening code to detect complexes that are poorly represented in training data and advise retraining or direct calculation.ANN predicted equilibrium metal ligand bond lengths for both HS and LS CSD geometries produced RMSEs of 0.10 and 0.07 Å, respectively (ESI Tables S32 and S33).', 'Trends in bond length prediction error differ from those obtained for spin state splitting.', 'For instance, bond length errors are average in the cyclams even though spin state splitting predictions were poor.', 'The highest HS prediction errors (>0.2 Å) occur for tests 8 and 35, underestimating the Fe N bond length by 0.2 Å (2.1 Å ANN vs. 2.3 Å calculated) in the former case.', 'Interligand effects that are ignored by our descriptor set can restrict bond length extension, e.g.', \"If the experimentally measured bond distance lies close to one spin state's predicted bond length, then the complex may be expected to be in that spin state, assuming (i) the ANN provides a good prediction of the spin state specific bond lengths and (ii) that the gas phase optimized DFT and CSD bond distances are comparable.\", 'The majority of experimental bond lengths are near the extrema of the ANN predictions (subset with a calculated DFT LS HS bond distance of at least 0.05 Å shown in  to improve readability, full set in ESI Fig.', 'Nine of the twelve (9 of 9 in ) experimental bond lengths that are on or above the predicted HS bond distance boundary have an HS ground state, eleven of the fifteen (6 of 6 in ) experimental bond lengths that are on or below the predicted LS bond distance have an LS ground state, and remaining structures (3 in ) reside at intermediate distances.', 'This bond length based spin assignment thus provides a strategy for corroboration of direct spin state prediction.3.6 Extrapolating pure exchange correlation functionals to hybrids with an ANNLinear spin state HF exchange sensitivity may be exploited to predict properties at one aHF value from computed properties obtained at another, e.g., to translate literature values or to accelerate periodic, plane wave calculations where incorporation of HF exchange increases computational cost.', 'Although this approach does eliminate the largest outliers and improve prediction across the CSD test set, it necessitates semi local DFT geometry optimizations or a judicious bond length choice for vertically approximated spin state ordering.', 'Although we have trained ANNs to predict bond lengths and spin state splitting, the data set and descriptors could be used to predict other quantities such as ionization potential, redox potential, or molecular orbital energies.']\n",
      "[0.0772, 0.0, 0.6808, -0.0258, 0.6705, 0.4019, 0.0772, 0.4767, 0.0, -0.34, 0.0, 0.34, 0.1531, 0.3818, 0.0, 0.4767, 0.34, -0.4019, -0.6705, -0.34, -0.5994, 0.4767, 0.4404, 0.0, 0.2732, 0.5859, 0.2263]\n",
      "----- Average sentiment for bond length: 0.1370666666666667 -----\n"
     ]
    }
   ],
   "source": [
    "# Alright, it's time to go head on into the paper.\n",
    "# Let's mine the full text of the paper for the keyword ANN and \n",
    "# extract all sentences that contain the word.\n",
    "keyword = 'bond length'\n",
    "\n",
    "kw_in_list, polarity_list = VADER_analysis(my_article.full_paper_sentences,keyword)\n",
    "\n",
    "print([val for i, val in enumerate(my_article.full_paper_sentences) if i in kw_in_list])\n",
    "print([polarity_list[i] for i, val in enumerate(my_article.full_paper_sentences) if i in kw_in_list])\n",
    "print('----- Average sentiment for '+str(keyword)+':', \n",
    "      np.mean([polarity_list[i] for i, val in enumerate(my_article.full_paper_sentences) if i in kw_in_list]),'-----')"
   ]
  },
  {
   "cell_type": "code",
   "execution_count": 12,
   "metadata": {},
   "outputs": [
    {
     "name": "stdout",
     "output_type": "stream",
     "text": [
      "THESE ARE THE QUERIES ['machine%20learning%20accelerates%20stable%20metal%20oxo%20formation']\n",
      "mapping_to_return acs_catal\n",
      "Now querying machine%20learning%20accelerates%20stable%20metal%20oxo%20formation in acs_catalysis\n",
      "------------- only querying 10.1021 ------------\n",
      "['10.1021/acscatal.5b01847', '10.1021/acscatal.1c02029', '10.1021/acscatal.9b02165', '10.1021/acscatal.1c00178', '10.1021/cs401032p', '10.1021/acscatal.8b04357', '10.1021/acscatal.0c02089', '10.1021/acscatal.0c04651', '10.1021/cs501707h', '10.1021/cs502129m']\n",
      "                        doi        journal       issn  \\\n",
      "0  10.1021/acscatal.5b01847  acs_catalysis  2155-5435   \n",
      "1  10.1021/acscatal.1c02029  acs_catalysis  2155-5435   \n",
      "2  10.1021/acscatal.9b02165  acs_catalysis  2155-5435   \n",
      "3  10.1021/acscatal.1c00178  acs_catalysis  2155-5435   \n",
      "4         10.1021/cs401032p  acs_catalysis  2155-5435   \n",
      "5  10.1021/acscatal.8b04357  acs_catalysis  2155-5435   \n",
      "6  10.1021/acscatal.0c02089  acs_catalysis  2155-5435   \n",
      "7  10.1021/acscatal.0c04651  acs_catalysis  2155-5435   \n",
      "8         10.1021/cs501707h  acs_catalysis  2155-5435   \n",
      "9         10.1021/cs502129m  acs_catalysis  2155-5435   \n",
      "\n",
      "                                               query       api  \n",
      "0  machine%20learning%20accelerates%20stable%20me...  crossref  \n",
      "1  machine%20learning%20accelerates%20stable%20me...  crossref  \n",
      "2  machine%20learning%20accelerates%20stable%20me...  crossref  \n",
      "3  machine%20learning%20accelerates%20stable%20me...  crossref  \n",
      "4  machine%20learning%20accelerates%20stable%20me...  crossref  \n",
      "5  machine%20learning%20accelerates%20stable%20me...  crossref  \n",
      "6  machine%20learning%20accelerates%20stable%20me...  crossref  \n",
      "7  machine%20learning%20accelerates%20stable%20me...  crossref  \n",
      "8  machine%20learning%20accelerates%20stable%20me...  crossref  \n",
      "9  machine%20learning%20accelerates%20stable%20me...  crossref  \n",
      "----\n",
      "You are about to download 10is this truly what you want? (recommended < 1000). (y/n): y\n",
      "OK, beginning download.\n",
      "dict_values(['10.1021/acscatal.5b01847', '10.1021/acscatal.1c02029', '10.1021/acscatal.9b02165', '10.1021/acscatal.1c00178', '10.1021/cs401032p', '10.1021/acscatal.8b04357', '10.1021/acscatal.0c02089', '10.1021/acscatal.0c04651', '10.1021/cs501707h', '10.1021/cs502129m'])\n",
      "doi 10.1021/acscatal.5b01847\n",
      "ACS pub. Not downloading, you can download manually! 10.1021/acscatal.5b01847\n",
      "doi 10.1021/acscatal.1c02029\n",
      "ACS pub. Not downloading, you can download manually! 10.1021/acscatal.1c02029\n",
      "doi 10.1021/acscatal.9b02165\n",
      "ACS pub. Not downloading, you can download manually! 10.1021/acscatal.9b02165\n",
      "doi 10.1021/acscatal.1c00178\n",
      "ACS pub. Not downloading, you can download manually! 10.1021/acscatal.1c00178\n",
      "doi 10.1021/cs401032p\n",
      "ACS pub. Not downloading, you can download manually! 10.1021/cs401032p\n",
      "doi 10.1021/acscatal.8b04357\n",
      "ACS pub. Not downloading, you can download manually! 10.1021/acscatal.8b04357\n",
      "doi 10.1021/acscatal.0c02089\n",
      "ACS pub. Not downloading, you can download manually! 10.1021/acscatal.0c02089\n",
      "doi 10.1021/acscatal.0c04651\n",
      "ACS pub. Not downloading, you can download manually! 10.1021/acscatal.0c04651\n",
      "doi 10.1021/cs501707h\n",
      "ACS pub. Not downloading, you can download manually! 10.1021/cs501707h\n",
      "doi 10.1021/cs502129m\n",
      "ACS pub. Not downloading, you can download manually! 10.1021/cs502129m\n"
     ]
    }
   ],
   "source": [
    "#### OK, now let's try to do this with an ACS pub (my ACS Catal: 10.1021/acscatal.9b02165)\n",
    "keywords = ['machine learning accelerates stable metal oxo formation']\n",
    "journal_limit = ['acs_catal']\n",
    "query_name = 'my_results'\n",
    "my_query = execute_query(basepath, keywords, elsevier_key=None,journal_limit=journal_limit, \\\n",
    "                        number_of_results=10, query_name=False, automate_download=True)"
   ]
  },
  {
   "cell_type": "code",
   "execution_count": 13,
   "metadata": {},
   "outputs": [
    {
     "name": "stdout",
     "output_type": "stream",
     "text": [
      "ACS pub. Not downloading, you can download manually! 10.1021/acscatal.9b02165\n"
     ]
    }
   ],
   "source": [
    "nandy_article = Article(basepath=basepath,doi='10.1021/acscatal.9b02165')"
   ]
  },
  {
   "cell_type": "code",
   "execution_count": 13,
   "metadata": {},
   "outputs": [],
   "source": [
    "### This now assumes that you have manually downloaded the article into the corpus\n",
    "nandy_article.full_analysis(get_full_paper = False)"
   ]
  },
  {
   "cell_type": "code",
   "execution_count": 14,
   "metadata": {},
   "outputs": [
    {
     "name": "stdout",
     "output_type": "stream",
     "text": [
      "['Chenru  Duan', 'Jiazhou  Zhu', 'Heather J.  Kulik', 'Jon Paul  Janet', 'Aditya  Nandy', 'Rachel B.  Getman']\n",
      "acs_catalysis\n",
      "{1: '1.  Introduction', 2: '2.  Catalysis Models', 3: '3.  Methods', 4: '4.  Results and Discussion', 5: '5.  Conclusions', 6: 'Supporting Information', 7: 'Acknowledgments', 8: 'References'}\n",
      "Metal–oxo moieties are important catalytic intermediates in the selective partial oxidation of hydrocarbons and in water splitting. Stable metal–oxo species have reactive properties that vary depending on the spin state of the metal, complicating the development of structure–property relationships. To overcome these challenges, we train machine-learning (ML) models capable of predicting metal–oxo formation energies across a range of first-row metals, oxidation states, and spin states. Using connectivity-only features tailored for inorganic chemistry as inputs to kernel ridge regression or artificial neural network (ANN) ML models, we achieve good mean absolute errors (4–5 kcal/mol) on set-aside test data across a range of ligand orientations. Analysis of feature importance for oxo formation energy prediction reveals the dominance of nonlocal, electronic ligand properties in contrast to other transition metal complex properties (e.g., spin-state or ionization potential). We enumerate the theoretical catalyst space with an ANN, revealing expected trends in oxo formation energetics, such as destabilization of the metal–oxo species with increasing d-filling, as well as exceptions, such as weak correlations with indicators of oxidative stability of the metal in the resting state or unexpected spin-state dependence in reactivity. We carry out uncertainty-aware evolutionary optimization using the ANN to explore a >37 000 candidate catalyst space. New metal and oxidation state combinations are uncovered and validated with density functional theory (DFT), including counterintuitive oxo formation energies for oxidatively stable complexes. This approach doubles the density of confirmed DFT leads in originally sparsely populated regions of property space, highlighting the potential of ML-model-driven discovery to uncover catalyst design rules and exceptions.\n"
     ]
    }
   ],
   "source": [
    "#### What do I get this time? Let's take a look.\n",
    "print(nandy_article.authors)\n",
    "print(nandy_article.journal_name)\n",
    "print(nandy_article.section_name_dict)\n",
    "print(nandy_article.abstract)"
   ]
  },
  {
   "cell_type": "code",
   "execution_count": 15,
   "metadata": {},
   "outputs": [
    {
     "name": "stdout",
     "output_type": "stream",
     "text": [
      "ACS pub. Not downloading, you can download manually! 10.1021/cs501707h\n",
      "ACS pub. Not downloading, you can download manually! 10.1021/cs502129m\n",
      "ACS pub. Not downloading, you can download manually! 10.1021/acscatal.7b01939\n",
      "ACS pub. Not downloading, you can download manually! 10.1021/acscatal.9b02165\n",
      "ACS pub. Not downloading, you can download manually! 10.1021/acscatal.8b05080\n",
      "ACS pub. Not downloading, you can download manually! 10.1021/acscatal.5b01847\n",
      "ACS pub. Not downloading, you can download manually! 10.1021/acscatal.9b02531\n",
      "ACS pub. Not downloading, you can download manually! 10.1021/cs401032p\n",
      "ACS pub. Not downloading, you can download manually! 10.1021/acscatal.8b04357\n",
      "ACS pub. Not downloading, you can download manually! 10.1021/acscatal.9b05248\n"
     ]
    }
   ],
   "source": [
    "my_query.tie_articles_to_query()"
   ]
  },
  {
   "cell_type": "code",
   "execution_count": 19,
   "metadata": {},
   "outputs": [],
   "source": [
    "my_query.article_dict['10.1021/acscatal.9b02165'].populate_metadata()"
   ]
  },
  {
   "cell_type": "code",
   "execution_count": 20,
   "metadata": {},
   "outputs": [
    {
     "data": {
      "text/plain": [
       "['Chenru  Duan',\n",
       " 'Jiazhou  Zhu',\n",
       " 'Heather J.  Kulik',\n",
       " 'Jon Paul  Janet',\n",
       " 'Aditya  Nandy',\n",
       " 'Rachel B.  Getman']"
      ]
     },
     "execution_count": 20,
     "metadata": {},
     "output_type": "execute_result"
    }
   ],
   "source": [
    "my_query.article_dict['10.1021/acscatal.9b02165'].authors"
   ]
  },
  {
   "cell_type": "code",
   "execution_count": null,
   "metadata": {},
   "outputs": [],
   "source": []
  }
 ],
 "metadata": {
  "kernelspec": {
   "display_name": "Python [conda env:tm_for_hjk] *",
   "language": "python",
   "name": "conda-env-tm_for_hjk-py"
  },
  "language_info": {
   "codemirror_mode": {
    "name": "ipython",
    "version": 3
   },
   "file_extension": ".py",
   "mimetype": "text/x-python",
   "name": "python",
   "nbconvert_exporter": "python",
   "pygments_lexer": "ipython3",
   "version": "3.6.13"
  }
 },
 "nbformat": 4,
 "nbformat_minor": 2
}
